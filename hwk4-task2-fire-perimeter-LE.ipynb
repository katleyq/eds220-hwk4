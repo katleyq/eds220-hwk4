{
 "cells": [
  {
   "cell_type": "markdown",
   "id": "56e080c2-e060-4e6a-9eaf-44dcd57f0437",
   "metadata": {},
   "source": [
    "# Exploring Thomas Fire Using California Fire Perimeter data from data.gov\n",
    "**Author**: Kat Le"
   ]
  },
  {
   "cell_type": "markdown",
   "id": "096b7563-478b-44ac-82ee-4552d1c1bbb9",
   "metadata": {},
   "source": [
    "California Fire Perimeter source: https://catalog.data.gov/dataset/california-fire-perimeters-all-b3436\n"
   ]
  },
  {
   "cell_type": "markdown",
   "id": "12834cc1-061b-4a48-8b71-26d1c919fd2a",
   "metadata": {},
   "source": [
    "### Import libraries and load data"
   ]
  },
  {
   "cell_type": "code",
   "execution_count": 2,
   "id": "0ec39bb9-243d-4c76-84b9-4f7698d7d160",
   "metadata": {
    "tags": []
   },
   "outputs": [],
   "source": [
    "import os\n",
    "import pandas as pd\n",
    "import geopandas as gpd\n",
    "\n",
    "from shapely.geometry import box  # To create polygon bounding box\n",
    "\n",
    "\"\"\"\n",
    "Set environment variable 'PROJ_LIB' to specify the path for the PROJ library\n",
    "Resolves ERROR 1: PROJ: proj_create_from_database\n",
    "\"\"\"\"\"\n",
    "os.environ['PROJ_LIB'] = '/opt/anaconda3/share/proj'\n",
    "\n",
    "pd.set_option(\"display.max.columns\", None)"
   ]
  },
  {
   "cell_type": "code",
   "execution_count": 3,
   "id": "9f45b8e6-0345-47a9-a294-cabcf74a7886",
   "metadata": {
    "tags": []
   },
   "outputs": [],
   "source": [
    "# Create path to repository data folder\n",
    "data_folder_fp = os.path.join(#'/',\n",
    "                              #'Users',\n",
    "                              #'katherine', \n",
    "                              #'MEDS',\n",
    "                              #'EDS-220',\n",
    "                              #'eds220-hwk4',\n",
    "                              'data')\n",
    "\n",
    "# Load California Fire Perimeter shapefile\n",
    "df = gpd.read_file(f\"{data_folder_fp}/California_Fire_Perimeters/California_Fire_Perimeters.shp\")"
   ]
  },
  {
   "cell_type": "markdown",
   "id": "f57a4423-9017-4ab1-be34-8a57ac848ea9",
   "metadata": {},
   "source": [
    "### Fire Perimeter Data Exploration\n"
   ]
  },
  {
   "cell_type": "code",
   "execution_count": 5,
   "id": "a96c2bb9-f1d9-40f0-af6f-0cc0698d6f05",
   "metadata": {
    "tags": []
   },
   "outputs": [
    {
     "data": {
      "text/html": [
       "<div>\n",
       "<style scoped>\n",
       "    .dataframe tbody tr th:only-of-type {\n",
       "        vertical-align: middle;\n",
       "    }\n",
       "\n",
       "    .dataframe tbody tr th {\n",
       "        vertical-align: top;\n",
       "    }\n",
       "\n",
       "    .dataframe thead th {\n",
       "        text-align: right;\n",
       "    }\n",
       "</style>\n",
       "<table border=\"1\" class=\"dataframe\">\n",
       "  <thead>\n",
       "    <tr style=\"text-align: right;\">\n",
       "      <th></th>\n",
       "      <th>YEAR_</th>\n",
       "      <th>STATE</th>\n",
       "      <th>AGENCY</th>\n",
       "      <th>UNIT_ID</th>\n",
       "      <th>FIRE_NAME</th>\n",
       "      <th>INC_NUM</th>\n",
       "      <th>ALARM_DATE</th>\n",
       "      <th>CONT_DATE</th>\n",
       "      <th>CAUSE</th>\n",
       "      <th>C_METHOD</th>\n",
       "      <th>OBJECTIVE</th>\n",
       "      <th>GIS_ACRES</th>\n",
       "      <th>COMMENTS</th>\n",
       "      <th>COMPLEX_NA</th>\n",
       "      <th>IRWINID</th>\n",
       "      <th>FIRE_NUM</th>\n",
       "      <th>COMPLEX_ID</th>\n",
       "      <th>DECADES</th>\n",
       "      <th>geometry</th>\n",
       "    </tr>\n",
       "  </thead>\n",
       "  <tbody>\n",
       "    <tr>\n",
       "      <th>2654</th>\n",
       "      <td>2017</td>\n",
       "      <td>CA</td>\n",
       "      <td>USF</td>\n",
       "      <td>VNC</td>\n",
       "      <td>THOMAS</td>\n",
       "      <td>00003583</td>\n",
       "      <td>2017-12-04</td>\n",
       "      <td>2018-01-12</td>\n",
       "      <td>9</td>\n",
       "      <td>7</td>\n",
       "      <td>1</td>\n",
       "      <td>281791.0</td>\n",
       "      <td>CONT_DATE based on Inciweb</td>\n",
       "      <td>None</td>\n",
       "      <td>None</td>\n",
       "      <td>None</td>\n",
       "      <td>None</td>\n",
       "      <td>2010</td>\n",
       "      <td>MULTIPOLYGON (((-13316089.016 4088553.040, -13...</td>\n",
       "    </tr>\n",
       "  </tbody>\n",
       "</table>\n",
       "</div>"
      ],
      "text/plain": [
       "      YEAR_ STATE AGENCY UNIT_ID FIRE_NAME   INC_NUM  ALARM_DATE   CONT_DATE  \\\n",
       "2654   2017    CA    USF     VNC    THOMAS  00003583  2017-12-04  2018-01-12   \n",
       "\n",
       "      CAUSE  C_METHOD  OBJECTIVE  GIS_ACRES                    COMMENTS  \\\n",
       "2654      9         7          1   281791.0  CONT_DATE based on Inciweb   \n",
       "\n",
       "     COMPLEX_NA IRWINID FIRE_NUM COMPLEX_ID  DECADES  \\\n",
       "2654       None    None     None       None     2010   \n",
       "\n",
       "                                               geometry  \n",
       "2654  MULTIPOLYGON (((-13316089.016 4088553.040, -13...  "
      ]
     },
     "execution_count": 5,
     "metadata": {},
     "output_type": "execute_result"
    }
   ],
   "source": [
    "df.head()"
   ]
  },
  {
   "cell_type": "code",
   "execution_count": 6,
   "id": "ea7dd6e2-a37e-497a-95f8-2402b4561e77",
   "metadata": {
    "tags": []
   },
   "outputs": [
    {
     "data": {
      "text/plain": [
       "<Projected CRS: PROJCS[\"WGS_1984_Web_Mercator_Auxiliary_Sphere\",GE ...>\n",
       "Name: WGS_1984_Web_Mercator_Auxiliary_Sphere\n",
       "Axis Info [cartesian]:\n",
       "- [east]: Easting (Meter)\n",
       "- [north]: Northing (Meter)\n",
       "Area of Use:\n",
       "- undefined\n",
       "Coordinate Operation:\n",
       "- name: unnamed\n",
       "- method: Popular Visualisation Pseudo Mercator\n",
       "Datum: World Geodetic System 1984\n",
       "- Ellipsoid: WGS 84\n",
       "- Prime Meridian: Greenwich"
      ]
     },
     "execution_count": 6,
     "metadata": {},
     "output_type": "execute_result"
    }
   ],
   "source": [
    "df.crs"
   ]
  },
  {
   "cell_type": "markdown",
   "id": "bd662274-9a1f-459b-a685-49c990c722c0",
   "metadata": {},
   "source": [
    "### Thomas Fire Boundary"
   ]
  },
  {
   "cell_type": "code",
   "execution_count": 11,
   "id": "c4e6b388-8ce9-4709-b51b-eea80b6492e8",
   "metadata": {
    "tags": []
   },
   "outputs": [],
   "source": [
    "thomas_fire = df.loc[(df['FIRE_NAME'] == 'THOMAS') & (df['YEAR_'] == 2017)]"
   ]
  },
  {
   "cell_type": "code",
   "execution_count": 14,
   "id": "d049ab2c-5543-4a29-8194-cd99d721cf3e",
   "metadata": {
    "tags": []
   },
   "outputs": [],
   "source": [
    "# Save file to data folder\n",
    "thomas_fire.to_file('data/thomas_fire.geojson', driver = 'GeoJSON')"
   ]
  },
  {
   "cell_type": "markdown",
   "id": "45e93097-02d4-46ce-8689-24e785679a01",
   "metadata": {},
   "source": [
    "I decided to save the Thomas Fire Boundary as a GeoJSON because this file format produces less files than shapefiles."
   ]
  }
 ],
 "metadata": {
  "kernelspec": {
   "display_name": "Anaconda 3 (EDS220)",
   "language": "python",
   "name": "eds220-env"
  },
  "language_info": {
   "codemirror_mode": {
    "name": "ipython",
    "version": 3
   },
   "file_extension": ".py",
   "mimetype": "text/x-python",
   "name": "python",
   "nbconvert_exporter": "python",
   "pygments_lexer": "ipython3",
   "version": "3.11.4"
  }
 },
 "nbformat": 4,
 "nbformat_minor": 5
}
